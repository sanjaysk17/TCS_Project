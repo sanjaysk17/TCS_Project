{
 "cells": [
  {
   "cell_type": "code",
   "execution_count": 442,
   "id": "a3e33d85",
   "metadata": {},
   "outputs": [],
   "source": [
    "import pandas as pd \n",
    "import numpy as np \n",
    "import seaborn as sns\n",
    "import matplotlib.pyplot as plt"
   ]
  },
  {
   "cell_type": "code",
   "execution_count": 443,
   "id": "861cdb73",
   "metadata": {},
   "outputs": [],
   "source": [
    "df=pd.read_csv(r\"C:\\Users\\sanja\\Desktop\\Project\\Retail_Transactions_2000.csv\")"
   ]
  },
  {
   "cell_type": "code",
   "execution_count": 444,
   "id": "11b0309e",
   "metadata": {},
   "outputs": [
    {
     "data": {
      "text/html": [
       "<div>\n",
       "<style scoped>\n",
       "    .dataframe tbody tr th:only-of-type {\n",
       "        vertical-align: middle;\n",
       "    }\n",
       "\n",
       "    .dataframe tbody tr th {\n",
       "        vertical-align: top;\n",
       "    }\n",
       "\n",
       "    .dataframe thead th {\n",
       "        text-align: right;\n",
       "    }\n",
       "</style>\n",
       "<table border=\"1\" class=\"dataframe\">\n",
       "  <thead>\n",
       "    <tr style=\"text-align: right;\">\n",
       "      <th></th>\n",
       "      <th>TransactionID</th>\n",
       "      <th>CustomerID</th>\n",
       "      <th>Gender</th>\n",
       "      <th>Age</th>\n",
       "      <th>City</th>\n",
       "      <th>ProductCategory</th>\n",
       "      <th>Quantity</th>\n",
       "      <th>Price</th>\n",
       "      <th>PurchaseDate</th>\n",
       "      <th>PaymentMode</th>\n",
       "      <th>TotalAmount</th>\n",
       "    </tr>\n",
       "  </thead>\n",
       "  <tbody>\n",
       "    <tr>\n",
       "      <th>0</th>\n",
       "      <td>T00001</td>\n",
       "      <td>C2824</td>\n",
       "      <td>Female</td>\n",
       "      <td>33</td>\n",
       "      <td>Bengaluru</td>\n",
       "      <td>Fashion</td>\n",
       "      <td>3</td>\n",
       "      <td>4479</td>\n",
       "      <td>2023-03-15</td>\n",
       "      <td>Cash</td>\n",
       "      <td>13437</td>\n",
       "    </tr>\n",
       "    <tr>\n",
       "      <th>1</th>\n",
       "      <td>T00002</td>\n",
       "      <td>C1409</td>\n",
       "      <td>Other</td>\n",
       "      <td>20</td>\n",
       "      <td>Pune</td>\n",
       "      <td>Books</td>\n",
       "      <td>5</td>\n",
       "      <td>1051</td>\n",
       "      <td>2023-01-22</td>\n",
       "      <td>Card</td>\n",
       "      <td>5255</td>\n",
       "    </tr>\n",
       "    <tr>\n",
       "      <th>2</th>\n",
       "      <td>T00003</td>\n",
       "      <td>C5506</td>\n",
       "      <td>Other</td>\n",
       "      <td>47</td>\n",
       "      <td>Pune</td>\n",
       "      <td>Furniture</td>\n",
       "      <td>1</td>\n",
       "      <td>111</td>\n",
       "      <td>2023-04-18</td>\n",
       "      <td>Wallet</td>\n",
       "      <td>111</td>\n",
       "    </tr>\n",
       "    <tr>\n",
       "      <th>3</th>\n",
       "      <td>T00004</td>\n",
       "      <td>C5012</td>\n",
       "      <td>Other</td>\n",
       "      <td>21</td>\n",
       "      <td>Hyderabad</td>\n",
       "      <td>Groceries</td>\n",
       "      <td>5</td>\n",
       "      <td>2946</td>\n",
       "      <td>2023-08-09</td>\n",
       "      <td>Cash</td>\n",
       "      <td>14730</td>\n",
       "    </tr>\n",
       "    <tr>\n",
       "      <th>4</th>\n",
       "      <td>T00005</td>\n",
       "      <td>C4657</td>\n",
       "      <td>Female</td>\n",
       "      <td>41</td>\n",
       "      <td>Chennai</td>\n",
       "      <td>Sports</td>\n",
       "      <td>1</td>\n",
       "      <td>3123</td>\n",
       "      <td>2023-09-23</td>\n",
       "      <td>Wallet</td>\n",
       "      <td>3123</td>\n",
       "    </tr>\n",
       "    <tr>\n",
       "      <th>5</th>\n",
       "      <td>T00006</td>\n",
       "      <td>C3286</td>\n",
       "      <td>Male</td>\n",
       "      <td>63</td>\n",
       "      <td>Delhi</td>\n",
       "      <td>Furniture</td>\n",
       "      <td>2</td>\n",
       "      <td>2758</td>\n",
       "      <td>2023-05-23</td>\n",
       "      <td>Card</td>\n",
       "      <td>5516</td>\n",
       "    </tr>\n",
       "    <tr>\n",
       "      <th>6</th>\n",
       "      <td>T00007</td>\n",
       "      <td>C2679</td>\n",
       "      <td>Other</td>\n",
       "      <td>30</td>\n",
       "      <td>Pune</td>\n",
       "      <td>Electronics</td>\n",
       "      <td>5</td>\n",
       "      <td>781</td>\n",
       "      <td>2023-10-22</td>\n",
       "      <td>Card</td>\n",
       "      <td>3905</td>\n",
       "    </tr>\n",
       "    <tr>\n",
       "      <th>7</th>\n",
       "      <td>T00008</td>\n",
       "      <td>C9935</td>\n",
       "      <td>Female</td>\n",
       "      <td>35</td>\n",
       "      <td>Hyderabad</td>\n",
       "      <td>Books</td>\n",
       "      <td>5</td>\n",
       "      <td>4599</td>\n",
       "      <td>2023-11-12</td>\n",
       "      <td>Cash</td>\n",
       "      <td>22995</td>\n",
       "    </tr>\n",
       "    <tr>\n",
       "      <th>8</th>\n",
       "      <td>T00009</td>\n",
       "      <td>C2424</td>\n",
       "      <td>Female</td>\n",
       "      <td>41</td>\n",
       "      <td>Jaipur</td>\n",
       "      <td>Books</td>\n",
       "      <td>5</td>\n",
       "      <td>2263</td>\n",
       "      <td>2023-06-10</td>\n",
       "      <td>Cash</td>\n",
       "      <td>11315</td>\n",
       "    </tr>\n",
       "    <tr>\n",
       "      <th>9</th>\n",
       "      <td>T00010</td>\n",
       "      <td>C7912</td>\n",
       "      <td>Male</td>\n",
       "      <td>70</td>\n",
       "      <td>Lucknow</td>\n",
       "      <td>Groceries</td>\n",
       "      <td>1</td>\n",
       "      <td>1194</td>\n",
       "      <td>2023-02-20</td>\n",
       "      <td>UPI</td>\n",
       "      <td>1194</td>\n",
       "    </tr>\n",
       "  </tbody>\n",
       "</table>\n",
       "</div>"
      ],
      "text/plain": [
       "  TransactionID CustomerID  Gender  Age       City ProductCategory  Quantity  \\\n",
       "0        T00001      C2824  Female   33  Bengaluru         Fashion         3   \n",
       "1        T00002      C1409   Other   20       Pune           Books         5   \n",
       "2        T00003      C5506   Other   47       Pune       Furniture         1   \n",
       "3        T00004      C5012   Other   21  Hyderabad       Groceries         5   \n",
       "4        T00005      C4657  Female   41    Chennai          Sports         1   \n",
       "5        T00006      C3286    Male   63      Delhi       Furniture         2   \n",
       "6        T00007      C2679   Other   30       Pune     Electronics         5   \n",
       "7        T00008      C9935  Female   35  Hyderabad           Books         5   \n",
       "8        T00009      C2424  Female   41     Jaipur           Books         5   \n",
       "9        T00010      C7912    Male   70    Lucknow       Groceries         1   \n",
       "\n",
       "   Price PurchaseDate PaymentMode  TotalAmount  \n",
       "0   4479   2023-03-15        Cash        13437  \n",
       "1   1051   2023-01-22        Card         5255  \n",
       "2    111   2023-04-18      Wallet          111  \n",
       "3   2946   2023-08-09        Cash        14730  \n",
       "4   3123   2023-09-23      Wallet         3123  \n",
       "5   2758   2023-05-23        Card         5516  \n",
       "6    781   2023-10-22        Card         3905  \n",
       "7   4599   2023-11-12        Cash        22995  \n",
       "8   2263   2023-06-10        Cash        11315  \n",
       "9   1194   2023-02-20         UPI         1194  "
      ]
     },
     "execution_count": 444,
     "metadata": {},
     "output_type": "execute_result"
    }
   ],
   "source": [
    "df.head(10)"
   ]
  },
  {
   "cell_type": "code",
   "execution_count": 445,
   "id": "48de13ae",
   "metadata": {},
   "outputs": [
    {
     "name": "stdout",
     "output_type": "stream",
     "text": [
      "<class 'pandas.core.frame.DataFrame'>\n",
      "RangeIndex: 2000 entries, 0 to 1999\n",
      "Data columns (total 11 columns):\n",
      " #   Column           Non-Null Count  Dtype \n",
      "---  ------           --------------  ----- \n",
      " 0   TransactionID    2000 non-null   object\n",
      " 1   CustomerID       2000 non-null   object\n",
      " 2   Gender           2000 non-null   object\n",
      " 3   Age              2000 non-null   int64 \n",
      " 4   City             2000 non-null   object\n",
      " 5   ProductCategory  2000 non-null   object\n",
      " 6   Quantity         2000 non-null   int64 \n",
      " 7   Price            2000 non-null   int64 \n",
      " 8   PurchaseDate     2000 non-null   object\n",
      " 9   PaymentMode      2000 non-null   object\n",
      " 10  TotalAmount      2000 non-null   int64 \n",
      "dtypes: int64(4), object(7)\n",
      "memory usage: 172.0+ KB\n"
     ]
    }
   ],
   "source": [
    "df.info()"
   ]
  },
  {
   "cell_type": "code",
   "execution_count": 446,
   "id": "95dd6783",
   "metadata": {},
   "outputs": [
    {
     "data": {
      "text/plain": [
       "TransactionID      2000\n",
       "CustomerID         1803\n",
       "Gender                3\n",
       "Age                  53\n",
       "City                 10\n",
       "ProductCategory       7\n",
       "Quantity              5\n",
       "Price              1610\n",
       "PurchaseDate        365\n",
       "PaymentMode           4\n",
       "TotalAmount        1838\n",
       "dtype: int64"
      ]
     },
     "execution_count": 446,
     "metadata": {},
     "output_type": "execute_result"
    }
   ],
   "source": [
    "df.nunique()"
   ]
  },
  {
   "cell_type": "code",
   "execution_count": 447,
   "id": "5849d5d9",
   "metadata": {},
   "outputs": [
    {
     "data": {
      "text/plain": [
       "(2000, 11)"
      ]
     },
     "execution_count": 447,
     "metadata": {},
     "output_type": "execute_result"
    }
   ],
   "source": [
    "df.shape"
   ]
  },
  {
   "cell_type": "code",
   "execution_count": 448,
   "id": "b467a713",
   "metadata": {},
   "outputs": [
    {
     "data": {
      "text/html": [
       "<div>\n",
       "<style scoped>\n",
       "    .dataframe tbody tr th:only-of-type {\n",
       "        vertical-align: middle;\n",
       "    }\n",
       "\n",
       "    .dataframe tbody tr th {\n",
       "        vertical-align: top;\n",
       "    }\n",
       "\n",
       "    .dataframe thead th {\n",
       "        text-align: right;\n",
       "    }\n",
       "</style>\n",
       "<table border=\"1\" class=\"dataframe\">\n",
       "  <thead>\n",
       "    <tr style=\"text-align: right;\">\n",
       "      <th></th>\n",
       "      <th>Age</th>\n",
       "      <th>Quantity</th>\n",
       "      <th>Price</th>\n",
       "      <th>TotalAmount</th>\n",
       "    </tr>\n",
       "  </thead>\n",
       "  <tbody>\n",
       "    <tr>\n",
       "      <th>count</th>\n",
       "      <td>2000.000000</td>\n",
       "      <td>2000.000000</td>\n",
       "      <td>2000.00000</td>\n",
       "      <td>2000.000000</td>\n",
       "    </tr>\n",
       "    <tr>\n",
       "      <th>mean</th>\n",
       "      <td>44.679000</td>\n",
       "      <td>2.957000</td>\n",
       "      <td>2496.61000</td>\n",
       "      <td>7307.414500</td>\n",
       "    </tr>\n",
       "    <tr>\n",
       "      <th>std</th>\n",
       "      <td>15.179795</td>\n",
       "      <td>1.412143</td>\n",
       "      <td>1413.95187</td>\n",
       "      <td>5705.065758</td>\n",
       "    </tr>\n",
       "    <tr>\n",
       "      <th>min</th>\n",
       "      <td>18.000000</td>\n",
       "      <td>1.000000</td>\n",
       "      <td>100.00000</td>\n",
       "      <td>111.000000</td>\n",
       "    </tr>\n",
       "    <tr>\n",
       "      <th>25%</th>\n",
       "      <td>32.000000</td>\n",
       "      <td>2.000000</td>\n",
       "      <td>1239.00000</td>\n",
       "      <td>2756.250000</td>\n",
       "    </tr>\n",
       "    <tr>\n",
       "      <th>50%</th>\n",
       "      <td>45.000000</td>\n",
       "      <td>3.000000</td>\n",
       "      <td>2481.50000</td>\n",
       "      <td>5562.500000</td>\n",
       "    </tr>\n",
       "    <tr>\n",
       "      <th>75%</th>\n",
       "      <td>58.000000</td>\n",
       "      <td>4.000000</td>\n",
       "      <td>3695.50000</td>\n",
       "      <td>10751.250000</td>\n",
       "    </tr>\n",
       "    <tr>\n",
       "      <th>max</th>\n",
       "      <td>70.000000</td>\n",
       "      <td>5.000000</td>\n",
       "      <td>5000.00000</td>\n",
       "      <td>24950.000000</td>\n",
       "    </tr>\n",
       "  </tbody>\n",
       "</table>\n",
       "</div>"
      ],
      "text/plain": [
       "               Age     Quantity       Price   TotalAmount\n",
       "count  2000.000000  2000.000000  2000.00000   2000.000000\n",
       "mean     44.679000     2.957000  2496.61000   7307.414500\n",
       "std      15.179795     1.412143  1413.95187   5705.065758\n",
       "min      18.000000     1.000000   100.00000    111.000000\n",
       "25%      32.000000     2.000000  1239.00000   2756.250000\n",
       "50%      45.000000     3.000000  2481.50000   5562.500000\n",
       "75%      58.000000     4.000000  3695.50000  10751.250000\n",
       "max      70.000000     5.000000  5000.00000  24950.000000"
      ]
     },
     "execution_count": 448,
     "metadata": {},
     "output_type": "execute_result"
    }
   ],
   "source": [
    "df.describe()"
   ]
  },
  {
   "cell_type": "code",
   "execution_count": 449,
   "id": "f9234099",
   "metadata": {},
   "outputs": [
    {
     "data": {
      "text/plain": [
       "TransactionID      0\n",
       "CustomerID         0\n",
       "Gender             0\n",
       "Age                0\n",
       "City               0\n",
       "ProductCategory    0\n",
       "Quantity           0\n",
       "Price              0\n",
       "PurchaseDate       0\n",
       "PaymentMode        0\n",
       "TotalAmount        0\n",
       "dtype: int64"
      ]
     },
     "execution_count": 449,
     "metadata": {},
     "output_type": "execute_result"
    }
   ],
   "source": [
    "df.isnull().sum()"
   ]
  },
  {
   "cell_type": "code",
   "execution_count": 450,
   "id": "53a4cbf7",
   "metadata": {},
   "outputs": [
    {
     "data": {
      "text/plain": [
       "np.int64(0)"
      ]
     },
     "execution_count": 450,
     "metadata": {},
     "output_type": "execute_result"
    }
   ],
   "source": [
    "df.duplicated().sum()"
   ]
  },
  {
   "cell_type": "code",
   "execution_count": 451,
   "id": "246c97a0",
   "metadata": {},
   "outputs": [
    {
     "data": {
      "text/plain": [
       "Gender\n",
       "Female    664\n",
       "Male      673\n",
       "Other     663\n",
       "Name: Gender, dtype: int64"
      ]
     },
     "execution_count": 451,
     "metadata": {},
     "output_type": "execute_result"
    }
   ],
   "source": [
    "df.groupby(by='Gender')['Gender'].count()"
   ]
  },
  {
   "cell_type": "code",
   "execution_count": 452,
   "id": "dfb64a0d",
   "metadata": {},
   "outputs": [
    {
     "data": {
      "text/plain": [
       "City\n",
       "Ahmedabad    222\n",
       "Bengaluru    217\n",
       "Chennai      187\n",
       "Delhi        199\n",
       "Hyderabad    185\n",
       "Jaipur       196\n",
       "Kolkata      196\n",
       "Lucknow      213\n",
       "Mumbai       202\n",
       "Pune         183\n",
       "Name: City, dtype: int64"
      ]
     },
     "execution_count": 452,
     "metadata": {},
     "output_type": "execute_result"
    }
   ],
   "source": [
    "df.groupby(by='City')['City'].count()"
   ]
  },
  {
   "cell_type": "code",
   "execution_count": 453,
   "id": "b4e3dfff",
   "metadata": {},
   "outputs": [
    {
     "data": {
      "text/plain": [
       "ProductCategory\n",
       "Beauty         303\n",
       "Books          301\n",
       "Electronics    281\n",
       "Fashion        259\n",
       "Furniture      313\n",
       "Groceries      281\n",
       "Sports         262\n",
       "Name: ProductCategory, dtype: int64"
      ]
     },
     "execution_count": 453,
     "metadata": {},
     "output_type": "execute_result"
    }
   ],
   "source": [
    "df.groupby(by='ProductCategory')['ProductCategory'].count()"
   ]
  },
  {
   "cell_type": "code",
   "execution_count": 454,
   "id": "c06dc9de",
   "metadata": {},
   "outputs": [
    {
     "data": {
      "text/plain": [
       "PaymentMode\n",
       "Card      520\n",
       "Cash      477\n",
       "UPI       484\n",
       "Wallet    519\n",
       "Name: PaymentMode, dtype: int64"
      ]
     },
     "execution_count": 454,
     "metadata": {},
     "output_type": "execute_result"
    }
   ],
   "source": [
    "df.groupby(by='PaymentMode')['PaymentMode'].count()"
   ]
  },
  {
   "cell_type": "code",
   "execution_count": 455,
   "id": "19260d2e",
   "metadata": {},
   "outputs": [
    {
     "data": {
      "text/plain": [
       "np.int64(0)"
      ]
     },
     "execution_count": 455,
     "metadata": {},
     "output_type": "execute_result"
    }
   ],
   "source": [
    "df['Price'].where(df['Price']<0).count()"
   ]
  },
  {
   "cell_type": "code",
   "execution_count": 456,
   "id": "a9f23c08",
   "metadata": {},
   "outputs": [
    {
     "data": {
      "text/plain": [
       "np.int64(0)"
      ]
     },
     "execution_count": 456,
     "metadata": {},
     "output_type": "execute_result"
    }
   ],
   "source": [
    "df['Quantity'].where(df['Quantity']<=0).count()"
   ]
  },
  {
   "cell_type": "code",
   "execution_count": 457,
   "id": "bb86aa41",
   "metadata": {},
   "outputs": [
    {
     "data": {
      "text/plain": [
       "np.int64(0)"
      ]
     },
     "execution_count": 457,
     "metadata": {},
     "output_type": "execute_result"
    }
   ],
   "source": [
    "df['TotalAmount'].where(df['TotalAmount']<=0).count()"
   ]
  },
  {
   "cell_type": "code",
   "execution_count": 458,
   "id": "5d4d7222",
   "metadata": {},
   "outputs": [
    {
     "data": {
      "text/plain": [
       "np.int64(0)"
      ]
     },
     "execution_count": 458,
     "metadata": {},
     "output_type": "execute_result"
    }
   ],
   "source": [
    "df['Age'].where(df['Age']<=0).count()"
   ]
  },
  {
   "cell_type": "code",
   "execution_count": 459,
   "id": "a2a1c6b0",
   "metadata": {},
   "outputs": [
    {
     "data": {
      "text/html": [
       "<div>\n",
       "<style scoped>\n",
       "    .dataframe tbody tr th:only-of-type {\n",
       "        vertical-align: middle;\n",
       "    }\n",
       "\n",
       "    .dataframe tbody tr th {\n",
       "        vertical-align: top;\n",
       "    }\n",
       "\n",
       "    .dataframe thead th {\n",
       "        text-align: right;\n",
       "    }\n",
       "</style>\n",
       "<table border=\"1\" class=\"dataframe\">\n",
       "  <thead>\n",
       "    <tr style=\"text-align: right;\">\n",
       "      <th></th>\n",
       "      <th>TransactionID</th>\n",
       "      <th>CustomerID</th>\n",
       "      <th>Gender</th>\n",
       "      <th>Age</th>\n",
       "      <th>City</th>\n",
       "      <th>ProductCategory</th>\n",
       "      <th>Quantity</th>\n",
       "      <th>Price</th>\n",
       "      <th>PurchaseDate</th>\n",
       "      <th>PaymentMode</th>\n",
       "      <th>TotalAmount</th>\n",
       "    </tr>\n",
       "  </thead>\n",
       "  <tbody>\n",
       "    <tr>\n",
       "      <th>0</th>\n",
       "      <td>T00001</td>\n",
       "      <td>C2824</td>\n",
       "      <td>Female</td>\n",
       "      <td>33</td>\n",
       "      <td>Bengaluru</td>\n",
       "      <td>Fashion</td>\n",
       "      <td>3</td>\n",
       "      <td>4479</td>\n",
       "      <td>2023-03-15</td>\n",
       "      <td>Cash</td>\n",
       "      <td>13437</td>\n",
       "    </tr>\n",
       "    <tr>\n",
       "      <th>1</th>\n",
       "      <td>T00002</td>\n",
       "      <td>C1409</td>\n",
       "      <td>Other</td>\n",
       "      <td>20</td>\n",
       "      <td>Pune</td>\n",
       "      <td>Books</td>\n",
       "      <td>5</td>\n",
       "      <td>1051</td>\n",
       "      <td>2023-01-22</td>\n",
       "      <td>Card</td>\n",
       "      <td>5255</td>\n",
       "    </tr>\n",
       "    <tr>\n",
       "      <th>2</th>\n",
       "      <td>T00003</td>\n",
       "      <td>C5506</td>\n",
       "      <td>Other</td>\n",
       "      <td>47</td>\n",
       "      <td>Pune</td>\n",
       "      <td>Furniture</td>\n",
       "      <td>1</td>\n",
       "      <td>111</td>\n",
       "      <td>2023-04-18</td>\n",
       "      <td>Wallet</td>\n",
       "      <td>111</td>\n",
       "    </tr>\n",
       "    <tr>\n",
       "      <th>3</th>\n",
       "      <td>T00004</td>\n",
       "      <td>C5012</td>\n",
       "      <td>Other</td>\n",
       "      <td>21</td>\n",
       "      <td>Hyderabad</td>\n",
       "      <td>Groceries</td>\n",
       "      <td>5</td>\n",
       "      <td>2946</td>\n",
       "      <td>2023-08-09</td>\n",
       "      <td>Cash</td>\n",
       "      <td>14730</td>\n",
       "    </tr>\n",
       "    <tr>\n",
       "      <th>4</th>\n",
       "      <td>T00005</td>\n",
       "      <td>C4657</td>\n",
       "      <td>Female</td>\n",
       "      <td>41</td>\n",
       "      <td>Chennai</td>\n",
       "      <td>Sports</td>\n",
       "      <td>1</td>\n",
       "      <td>3123</td>\n",
       "      <td>2023-09-23</td>\n",
       "      <td>Wallet</td>\n",
       "      <td>3123</td>\n",
       "    </tr>\n",
       "    <tr>\n",
       "      <th>...</th>\n",
       "      <td>...</td>\n",
       "      <td>...</td>\n",
       "      <td>...</td>\n",
       "      <td>...</td>\n",
       "      <td>...</td>\n",
       "      <td>...</td>\n",
       "      <td>...</td>\n",
       "      <td>...</td>\n",
       "      <td>...</td>\n",
       "      <td>...</td>\n",
       "      <td>...</td>\n",
       "    </tr>\n",
       "    <tr>\n",
       "      <th>1995</th>\n",
       "      <td>T01996</td>\n",
       "      <td>C1151</td>\n",
       "      <td>Male</td>\n",
       "      <td>44</td>\n",
       "      <td>Jaipur</td>\n",
       "      <td>Fashion</td>\n",
       "      <td>2</td>\n",
       "      <td>2436</td>\n",
       "      <td>2023-01-15</td>\n",
       "      <td>Wallet</td>\n",
       "      <td>4872</td>\n",
       "    </tr>\n",
       "    <tr>\n",
       "      <th>1996</th>\n",
       "      <td>T01997</td>\n",
       "      <td>C5888</td>\n",
       "      <td>Male</td>\n",
       "      <td>53</td>\n",
       "      <td>Ahmedabad</td>\n",
       "      <td>Beauty</td>\n",
       "      <td>3</td>\n",
       "      <td>2744</td>\n",
       "      <td>2023-01-14</td>\n",
       "      <td>Wallet</td>\n",
       "      <td>8232</td>\n",
       "    </tr>\n",
       "    <tr>\n",
       "      <th>1997</th>\n",
       "      <td>T01998</td>\n",
       "      <td>C2758</td>\n",
       "      <td>Male</td>\n",
       "      <td>45</td>\n",
       "      <td>Lucknow</td>\n",
       "      <td>Electronics</td>\n",
       "      <td>1</td>\n",
       "      <td>3246</td>\n",
       "      <td>2023-06-19</td>\n",
       "      <td>Wallet</td>\n",
       "      <td>3246</td>\n",
       "    </tr>\n",
       "    <tr>\n",
       "      <th>1998</th>\n",
       "      <td>T01999</td>\n",
       "      <td>C6489</td>\n",
       "      <td>Male</td>\n",
       "      <td>43</td>\n",
       "      <td>Bengaluru</td>\n",
       "      <td>Sports</td>\n",
       "      <td>2</td>\n",
       "      <td>2709</td>\n",
       "      <td>2023-01-15</td>\n",
       "      <td>Wallet</td>\n",
       "      <td>5418</td>\n",
       "    </tr>\n",
       "    <tr>\n",
       "      <th>1999</th>\n",
       "      <td>T02000</td>\n",
       "      <td>C5662</td>\n",
       "      <td>Male</td>\n",
       "      <td>33</td>\n",
       "      <td>Hyderabad</td>\n",
       "      <td>Beauty</td>\n",
       "      <td>2</td>\n",
       "      <td>1561</td>\n",
       "      <td>2023-08-29</td>\n",
       "      <td>UPI</td>\n",
       "      <td>3122</td>\n",
       "    </tr>\n",
       "  </tbody>\n",
       "</table>\n",
       "<p>2000 rows × 11 columns</p>\n",
       "</div>"
      ],
      "text/plain": [
       "     TransactionID CustomerID  Gender  Age       City ProductCategory  \\\n",
       "0           T00001      C2824  Female   33  Bengaluru         Fashion   \n",
       "1           T00002      C1409   Other   20       Pune           Books   \n",
       "2           T00003      C5506   Other   47       Pune       Furniture   \n",
       "3           T00004      C5012   Other   21  Hyderabad       Groceries   \n",
       "4           T00005      C4657  Female   41    Chennai          Sports   \n",
       "...            ...        ...     ...  ...        ...             ...   \n",
       "1995        T01996      C1151    Male   44     Jaipur         Fashion   \n",
       "1996        T01997      C5888    Male   53  Ahmedabad          Beauty   \n",
       "1997        T01998      C2758    Male   45    Lucknow     Electronics   \n",
       "1998        T01999      C6489    Male   43  Bengaluru          Sports   \n",
       "1999        T02000      C5662    Male   33  Hyderabad          Beauty   \n",
       "\n",
       "      Quantity  Price PurchaseDate PaymentMode  TotalAmount  \n",
       "0            3   4479   2023-03-15        Cash        13437  \n",
       "1            5   1051   2023-01-22        Card         5255  \n",
       "2            1    111   2023-04-18      Wallet          111  \n",
       "3            5   2946   2023-08-09        Cash        14730  \n",
       "4            1   3123   2023-09-23      Wallet         3123  \n",
       "...        ...    ...          ...         ...          ...  \n",
       "1995         2   2436   2023-01-15      Wallet         4872  \n",
       "1996         3   2744   2023-01-14      Wallet         8232  \n",
       "1997         1   3246   2023-06-19      Wallet         3246  \n",
       "1998         2   2709   2023-01-15      Wallet         5418  \n",
       "1999         2   1561   2023-08-29         UPI         3122  \n",
       "\n",
       "[2000 rows x 11 columns]"
      ]
     },
     "execution_count": 459,
     "metadata": {},
     "output_type": "execute_result"
    }
   ],
   "source": [
    "df"
   ]
  },
  {
   "cell_type": "code",
   "execution_count": 460,
   "id": "f3dd0961",
   "metadata": {},
   "outputs": [
    {
     "data": {
      "text/plain": [
       "TransactionID      2000\n",
       "CustomerID         2000\n",
       "Gender             2000\n",
       "Age                2000\n",
       "City               2000\n",
       "ProductCategory    2000\n",
       "Quantity           2000\n",
       "Price              2000\n",
       "PurchaseDate       2000\n",
       "PaymentMode        2000\n",
       "TotalAmount        2000\n",
       "dtype: int64"
      ]
     },
     "execution_count": 460,
     "metadata": {},
     "output_type": "execute_result"
    }
   ],
   "source": [
    "df.where(df['Price'] * df['Quantity'] == df['TotalAmount']).count()"
   ]
  },
  {
   "cell_type": "code",
   "execution_count": 461,
   "id": "5f68b4d1",
   "metadata": {},
   "outputs": [
    {
     "data": {
      "text/html": [
       "<div>\n",
       "<style scoped>\n",
       "    .dataframe tbody tr th:only-of-type {\n",
       "        vertical-align: middle;\n",
       "    }\n",
       "\n",
       "    .dataframe tbody tr th {\n",
       "        vertical-align: top;\n",
       "    }\n",
       "\n",
       "    .dataframe thead th {\n",
       "        text-align: right;\n",
       "    }\n",
       "</style>\n",
       "<table border=\"1\" class=\"dataframe\">\n",
       "  <thead>\n",
       "    <tr style=\"text-align: right;\">\n",
       "      <th></th>\n",
       "      <th>Age</th>\n",
       "      <th>Quantity</th>\n",
       "      <th>Price</th>\n",
       "      <th>TotalAmount</th>\n",
       "    </tr>\n",
       "  </thead>\n",
       "  <tbody>\n",
       "    <tr>\n",
       "      <th>count</th>\n",
       "      <td>2000.000000</td>\n",
       "      <td>2000.000000</td>\n",
       "      <td>2000.00000</td>\n",
       "      <td>2000.000000</td>\n",
       "    </tr>\n",
       "    <tr>\n",
       "      <th>mean</th>\n",
       "      <td>44.679000</td>\n",
       "      <td>2.957000</td>\n",
       "      <td>2496.61000</td>\n",
       "      <td>7307.414500</td>\n",
       "    </tr>\n",
       "    <tr>\n",
       "      <th>std</th>\n",
       "      <td>15.179795</td>\n",
       "      <td>1.412143</td>\n",
       "      <td>1413.95187</td>\n",
       "      <td>5705.065758</td>\n",
       "    </tr>\n",
       "    <tr>\n",
       "      <th>min</th>\n",
       "      <td>18.000000</td>\n",
       "      <td>1.000000</td>\n",
       "      <td>100.00000</td>\n",
       "      <td>111.000000</td>\n",
       "    </tr>\n",
       "    <tr>\n",
       "      <th>25%</th>\n",
       "      <td>32.000000</td>\n",
       "      <td>2.000000</td>\n",
       "      <td>1239.00000</td>\n",
       "      <td>2756.250000</td>\n",
       "    </tr>\n",
       "    <tr>\n",
       "      <th>50%</th>\n",
       "      <td>45.000000</td>\n",
       "      <td>3.000000</td>\n",
       "      <td>2481.50000</td>\n",
       "      <td>5562.500000</td>\n",
       "    </tr>\n",
       "    <tr>\n",
       "      <th>75%</th>\n",
       "      <td>58.000000</td>\n",
       "      <td>4.000000</td>\n",
       "      <td>3695.50000</td>\n",
       "      <td>10751.250000</td>\n",
       "    </tr>\n",
       "    <tr>\n",
       "      <th>max</th>\n",
       "      <td>70.000000</td>\n",
       "      <td>5.000000</td>\n",
       "      <td>5000.00000</td>\n",
       "      <td>24950.000000</td>\n",
       "    </tr>\n",
       "  </tbody>\n",
       "</table>\n",
       "</div>"
      ],
      "text/plain": [
       "               Age     Quantity       Price   TotalAmount\n",
       "count  2000.000000  2000.000000  2000.00000   2000.000000\n",
       "mean     44.679000     2.957000  2496.61000   7307.414500\n",
       "std      15.179795     1.412143  1413.95187   5705.065758\n",
       "min      18.000000     1.000000   100.00000    111.000000\n",
       "25%      32.000000     2.000000  1239.00000   2756.250000\n",
       "50%      45.000000     3.000000  2481.50000   5562.500000\n",
       "75%      58.000000     4.000000  3695.50000  10751.250000\n",
       "max      70.000000     5.000000  5000.00000  24950.000000"
      ]
     },
     "execution_count": 461,
     "metadata": {},
     "output_type": "execute_result"
    }
   ],
   "source": [
    "df.describe()"
   ]
  },
  {
   "cell_type": "code",
   "execution_count": 462,
   "id": "b0aa9a4c",
   "metadata": {},
   "outputs": [],
   "source": [
    "df.to_csv(\"retail_cleaned.csv\", index=False)"
   ]
  },
  {
   "cell_type": "markdown",
   "id": "3142239b",
   "metadata": {},
   "source": [
    "Feature Engineering\n"
   ]
  },
  {
   "cell_type": "code",
   "execution_count": 463,
   "id": "0f945740",
   "metadata": {},
   "outputs": [],
   "source": [
    "df['Age Group']=df['Age'].apply(lambda x: 'Senior' if x >=41\n",
    "                                                    else 'Adult' if x>=26 and x<=40\n",
    "                                                    else 'young Adult' \n",
    "                                                    )"
   ]
  },
  {
   "cell_type": "code",
   "execution_count": 464,
   "id": "ed8838a9",
   "metadata": {},
   "outputs": [
    {
     "data": {
      "text/plain": [
       "Age Group\n",
       "Adult           546\n",
       "Senior         1178\n",
       "young Adult     276\n",
       "Name: count, dtype: int64"
      ]
     },
     "execution_count": 464,
     "metadata": {},
     "output_type": "execute_result"
    }
   ],
   "source": [
    "df.groupby(by='Age Group')['Age Group'].value_counts()"
   ]
  },
  {
   "cell_type": "code",
   "execution_count": 465,
   "id": "65614f82",
   "metadata": {},
   "outputs": [],
   "source": [
    "df['Price Level']=df['Price'].apply(lambda x: 'Expensive' if x >=3750 \n",
    "                                                    else 'High' if x>=1500  \n",
    "                                                    else 'Medium' if x>=250 \n",
    "                                                    else \"Low\")"
   ]
  },
  {
   "cell_type": "code",
   "execution_count": 466,
   "id": "e27790e6",
   "metadata": {},
   "outputs": [],
   "source": [
    "df['PurchaseDate']=pd.to_datetime(df['PurchaseDate'])\n",
    "df['Month']=df['PurchaseDate'].dt.month_name()"
   ]
  },
  {
   "cell_type": "code",
   "execution_count": 467,
   "id": "1a4ba82e",
   "metadata": {},
   "outputs": [],
   "source": [
    "df['Dayname']=df['PurchaseDate'].dt.day_name()"
   ]
  },
  {
   "cell_type": "code",
   "execution_count": 468,
   "id": "4045c77b",
   "metadata": {},
   "outputs": [
    {
     "data": {
      "text/html": [
       "<div>\n",
       "<style scoped>\n",
       "    .dataframe tbody tr th:only-of-type {\n",
       "        vertical-align: middle;\n",
       "    }\n",
       "\n",
       "    .dataframe tbody tr th {\n",
       "        vertical-align: top;\n",
       "    }\n",
       "\n",
       "    .dataframe thead th {\n",
       "        text-align: right;\n",
       "    }\n",
       "</style>\n",
       "<table border=\"1\" class=\"dataframe\">\n",
       "  <thead>\n",
       "    <tr style=\"text-align: right;\">\n",
       "      <th></th>\n",
       "      <th>TransactionID</th>\n",
       "      <th>CustomerID</th>\n",
       "      <th>Gender</th>\n",
       "      <th>Age</th>\n",
       "      <th>City</th>\n",
       "      <th>ProductCategory</th>\n",
       "      <th>Quantity</th>\n",
       "      <th>Price</th>\n",
       "      <th>PurchaseDate</th>\n",
       "      <th>PaymentMode</th>\n",
       "      <th>TotalAmount</th>\n",
       "      <th>Age Group</th>\n",
       "      <th>Price Level</th>\n",
       "      <th>Month</th>\n",
       "      <th>Dayname</th>\n",
       "    </tr>\n",
       "  </thead>\n",
       "  <tbody>\n",
       "    <tr>\n",
       "      <th>0</th>\n",
       "      <td>T00001</td>\n",
       "      <td>C2824</td>\n",
       "      <td>Female</td>\n",
       "      <td>33</td>\n",
       "      <td>Bengaluru</td>\n",
       "      <td>Fashion</td>\n",
       "      <td>3</td>\n",
       "      <td>4479</td>\n",
       "      <td>2023-03-15</td>\n",
       "      <td>Cash</td>\n",
       "      <td>13437</td>\n",
       "      <td>Adult</td>\n",
       "      <td>Expensive</td>\n",
       "      <td>March</td>\n",
       "      <td>Wednesday</td>\n",
       "    </tr>\n",
       "    <tr>\n",
       "      <th>1</th>\n",
       "      <td>T00002</td>\n",
       "      <td>C1409</td>\n",
       "      <td>Other</td>\n",
       "      <td>20</td>\n",
       "      <td>Pune</td>\n",
       "      <td>Books</td>\n",
       "      <td>5</td>\n",
       "      <td>1051</td>\n",
       "      <td>2023-01-22</td>\n",
       "      <td>Card</td>\n",
       "      <td>5255</td>\n",
       "      <td>young Adult</td>\n",
       "      <td>Medium</td>\n",
       "      <td>January</td>\n",
       "      <td>Sunday</td>\n",
       "    </tr>\n",
       "    <tr>\n",
       "      <th>2</th>\n",
       "      <td>T00003</td>\n",
       "      <td>C5506</td>\n",
       "      <td>Other</td>\n",
       "      <td>47</td>\n",
       "      <td>Pune</td>\n",
       "      <td>Furniture</td>\n",
       "      <td>1</td>\n",
       "      <td>111</td>\n",
       "      <td>2023-04-18</td>\n",
       "      <td>Wallet</td>\n",
       "      <td>111</td>\n",
       "      <td>Senior</td>\n",
       "      <td>Low</td>\n",
       "      <td>April</td>\n",
       "      <td>Tuesday</td>\n",
       "    </tr>\n",
       "    <tr>\n",
       "      <th>3</th>\n",
       "      <td>T00004</td>\n",
       "      <td>C5012</td>\n",
       "      <td>Other</td>\n",
       "      <td>21</td>\n",
       "      <td>Hyderabad</td>\n",
       "      <td>Groceries</td>\n",
       "      <td>5</td>\n",
       "      <td>2946</td>\n",
       "      <td>2023-08-09</td>\n",
       "      <td>Cash</td>\n",
       "      <td>14730</td>\n",
       "      <td>young Adult</td>\n",
       "      <td>High</td>\n",
       "      <td>August</td>\n",
       "      <td>Wednesday</td>\n",
       "    </tr>\n",
       "    <tr>\n",
       "      <th>4</th>\n",
       "      <td>T00005</td>\n",
       "      <td>C4657</td>\n",
       "      <td>Female</td>\n",
       "      <td>41</td>\n",
       "      <td>Chennai</td>\n",
       "      <td>Sports</td>\n",
       "      <td>1</td>\n",
       "      <td>3123</td>\n",
       "      <td>2023-09-23</td>\n",
       "      <td>Wallet</td>\n",
       "      <td>3123</td>\n",
       "      <td>Senior</td>\n",
       "      <td>High</td>\n",
       "      <td>September</td>\n",
       "      <td>Saturday</td>\n",
       "    </tr>\n",
       "    <tr>\n",
       "      <th>...</th>\n",
       "      <td>...</td>\n",
       "      <td>...</td>\n",
       "      <td>...</td>\n",
       "      <td>...</td>\n",
       "      <td>...</td>\n",
       "      <td>...</td>\n",
       "      <td>...</td>\n",
       "      <td>...</td>\n",
       "      <td>...</td>\n",
       "      <td>...</td>\n",
       "      <td>...</td>\n",
       "      <td>...</td>\n",
       "      <td>...</td>\n",
       "      <td>...</td>\n",
       "      <td>...</td>\n",
       "    </tr>\n",
       "    <tr>\n",
       "      <th>1995</th>\n",
       "      <td>T01996</td>\n",
       "      <td>C1151</td>\n",
       "      <td>Male</td>\n",
       "      <td>44</td>\n",
       "      <td>Jaipur</td>\n",
       "      <td>Fashion</td>\n",
       "      <td>2</td>\n",
       "      <td>2436</td>\n",
       "      <td>2023-01-15</td>\n",
       "      <td>Wallet</td>\n",
       "      <td>4872</td>\n",
       "      <td>Senior</td>\n",
       "      <td>High</td>\n",
       "      <td>January</td>\n",
       "      <td>Sunday</td>\n",
       "    </tr>\n",
       "    <tr>\n",
       "      <th>1996</th>\n",
       "      <td>T01997</td>\n",
       "      <td>C5888</td>\n",
       "      <td>Male</td>\n",
       "      <td>53</td>\n",
       "      <td>Ahmedabad</td>\n",
       "      <td>Beauty</td>\n",
       "      <td>3</td>\n",
       "      <td>2744</td>\n",
       "      <td>2023-01-14</td>\n",
       "      <td>Wallet</td>\n",
       "      <td>8232</td>\n",
       "      <td>Senior</td>\n",
       "      <td>High</td>\n",
       "      <td>January</td>\n",
       "      <td>Saturday</td>\n",
       "    </tr>\n",
       "    <tr>\n",
       "      <th>1997</th>\n",
       "      <td>T01998</td>\n",
       "      <td>C2758</td>\n",
       "      <td>Male</td>\n",
       "      <td>45</td>\n",
       "      <td>Lucknow</td>\n",
       "      <td>Electronics</td>\n",
       "      <td>1</td>\n",
       "      <td>3246</td>\n",
       "      <td>2023-06-19</td>\n",
       "      <td>Wallet</td>\n",
       "      <td>3246</td>\n",
       "      <td>Senior</td>\n",
       "      <td>High</td>\n",
       "      <td>June</td>\n",
       "      <td>Monday</td>\n",
       "    </tr>\n",
       "    <tr>\n",
       "      <th>1998</th>\n",
       "      <td>T01999</td>\n",
       "      <td>C6489</td>\n",
       "      <td>Male</td>\n",
       "      <td>43</td>\n",
       "      <td>Bengaluru</td>\n",
       "      <td>Sports</td>\n",
       "      <td>2</td>\n",
       "      <td>2709</td>\n",
       "      <td>2023-01-15</td>\n",
       "      <td>Wallet</td>\n",
       "      <td>5418</td>\n",
       "      <td>Senior</td>\n",
       "      <td>High</td>\n",
       "      <td>January</td>\n",
       "      <td>Sunday</td>\n",
       "    </tr>\n",
       "    <tr>\n",
       "      <th>1999</th>\n",
       "      <td>T02000</td>\n",
       "      <td>C5662</td>\n",
       "      <td>Male</td>\n",
       "      <td>33</td>\n",
       "      <td>Hyderabad</td>\n",
       "      <td>Beauty</td>\n",
       "      <td>2</td>\n",
       "      <td>1561</td>\n",
       "      <td>2023-08-29</td>\n",
       "      <td>UPI</td>\n",
       "      <td>3122</td>\n",
       "      <td>Adult</td>\n",
       "      <td>High</td>\n",
       "      <td>August</td>\n",
       "      <td>Tuesday</td>\n",
       "    </tr>\n",
       "  </tbody>\n",
       "</table>\n",
       "<p>2000 rows × 15 columns</p>\n",
       "</div>"
      ],
      "text/plain": [
       "     TransactionID CustomerID  Gender  Age       City ProductCategory  \\\n",
       "0           T00001      C2824  Female   33  Bengaluru         Fashion   \n",
       "1           T00002      C1409   Other   20       Pune           Books   \n",
       "2           T00003      C5506   Other   47       Pune       Furniture   \n",
       "3           T00004      C5012   Other   21  Hyderabad       Groceries   \n",
       "4           T00005      C4657  Female   41    Chennai          Sports   \n",
       "...            ...        ...     ...  ...        ...             ...   \n",
       "1995        T01996      C1151    Male   44     Jaipur         Fashion   \n",
       "1996        T01997      C5888    Male   53  Ahmedabad          Beauty   \n",
       "1997        T01998      C2758    Male   45    Lucknow     Electronics   \n",
       "1998        T01999      C6489    Male   43  Bengaluru          Sports   \n",
       "1999        T02000      C5662    Male   33  Hyderabad          Beauty   \n",
       "\n",
       "      Quantity  Price PurchaseDate PaymentMode  TotalAmount    Age Group  \\\n",
       "0            3   4479   2023-03-15        Cash        13437        Adult   \n",
       "1            5   1051   2023-01-22        Card         5255  young Adult   \n",
       "2            1    111   2023-04-18      Wallet          111       Senior   \n",
       "3            5   2946   2023-08-09        Cash        14730  young Adult   \n",
       "4            1   3123   2023-09-23      Wallet         3123       Senior   \n",
       "...        ...    ...          ...         ...          ...          ...   \n",
       "1995         2   2436   2023-01-15      Wallet         4872       Senior   \n",
       "1996         3   2744   2023-01-14      Wallet         8232       Senior   \n",
       "1997         1   3246   2023-06-19      Wallet         3246       Senior   \n",
       "1998         2   2709   2023-01-15      Wallet         5418       Senior   \n",
       "1999         2   1561   2023-08-29         UPI         3122        Adult   \n",
       "\n",
       "     Price Level      Month    Dayname  \n",
       "0      Expensive      March  Wednesday  \n",
       "1         Medium    January     Sunday  \n",
       "2            Low      April    Tuesday  \n",
       "3           High     August  Wednesday  \n",
       "4           High  September   Saturday  \n",
       "...          ...        ...        ...  \n",
       "1995        High    January     Sunday  \n",
       "1996        High    January   Saturday  \n",
       "1997        High       June     Monday  \n",
       "1998        High    January     Sunday  \n",
       "1999        High     August    Tuesday  \n",
       "\n",
       "[2000 rows x 15 columns]"
      ]
     },
     "execution_count": 468,
     "metadata": {},
     "output_type": "execute_result"
    }
   ],
   "source": [
    "df"
   ]
  },
  {
   "cell_type": "markdown",
   "id": "8175d08e",
   "metadata": {},
   "source": [
    "Data Analysis"
   ]
  },
  {
   "cell_type": "code",
   "execution_count": 469,
   "id": "999672bb",
   "metadata": {},
   "outputs": [
    {
     "data": {
      "text/plain": [
       "Gender\n",
       "Female    170\n",
       "Male      149\n",
       "Other     159\n",
       "Name: Gender, dtype: int64"
      ]
     },
     "execution_count": 469,
     "metadata": {},
     "output_type": "execute_result"
    }
   ],
   "source": [
    "df[df['Price Level']=='Expensive'].groupby(by=df['Gender'])['Gender'].count()"
   ]
  },
  {
   "cell_type": "code",
   "execution_count": 470,
   "id": "a24dcc31",
   "metadata": {},
   "outputs": [
    {
     "data": {
      "text/plain": [
       "Gender\n",
       "Female     99\n",
       "Male      116\n",
       "Other      88\n",
       "Name: Gender, dtype: int64"
      ]
     },
     "execution_count": 470,
     "metadata": {},
     "output_type": "execute_result"
    }
   ],
   "source": [
    "df[df['ProductCategory']=='Beauty'].groupby(by=df['Gender'])['Gender'].count()"
   ]
  },
  {
   "cell_type": "code",
   "execution_count": 471,
   "id": "d2848669",
   "metadata": {},
   "outputs": [
    {
     "data": {
      "text/plain": [
       "Age Group\n",
       "Adult          134\n",
       "Senior         274\n",
       "young Adult     70\n",
       "Name: Age Group, dtype: int64"
      ]
     },
     "execution_count": 471,
     "metadata": {},
     "output_type": "execute_result"
    }
   ],
   "source": [
    "df[df['Price Level']=='Expensive'].groupby(by=df['Age Group'])['Age Group'].count()"
   ]
  },
  {
   "cell_type": "code",
   "execution_count": 472,
   "id": "5344ce4f",
   "metadata": {},
   "outputs": [
    {
     "data": {
      "text/plain": [
       "Age Group\n",
       "Adult          18\n",
       "Senior         39\n",
       "young Adult     8\n",
       "Name: Age Group, dtype: int64"
      ]
     },
     "execution_count": 472,
     "metadata": {},
     "output_type": "execute_result"
    }
   ],
   "source": [
    "df[df['Price Level']=='Low'].groupby(by=df['Age Group'])['Age Group'].count()"
   ]
  },
  {
   "cell_type": "code",
   "execution_count": 473,
   "id": "ab64316d",
   "metadata": {},
   "outputs": [
    {
     "data": {
      "text/plain": [
       "ProductCategory\n",
       "Beauty         36\n",
       "Books          27\n",
       "Electronics    21\n",
       "Fashion        25\n",
       "Furniture      26\n",
       "Groceries      28\n",
       "Sports         24\n",
       "Name: ProductCategory, dtype: int64"
      ]
     },
     "execution_count": 473,
     "metadata": {},
     "output_type": "execute_result"
    }
   ],
   "source": [
    "df[df['City']=='Chennai'].groupby(by=df['ProductCategory'])['ProductCategory'].count()"
   ]
  },
  {
   "cell_type": "code",
   "execution_count": 474,
   "id": "d1dbb1fb",
   "metadata": {},
   "outputs": [
    {
     "data": {
      "text/plain": [
       "City\n",
       "Ahmedabad    47\n",
       "Bengaluru    34\n",
       "Chennai      36\n",
       "Delhi        25\n",
       "Hyderabad    15\n",
       "Jaipur       24\n",
       "Kolkata      27\n",
       "Lucknow      35\n",
       "Mumbai       27\n",
       "Pune         33\n",
       "Name: City, dtype: int64"
      ]
     },
     "execution_count": 474,
     "metadata": {},
     "output_type": "execute_result"
    }
   ],
   "source": [
    "df[df['ProductCategory']==\"Beauty\"].groupby(by=df['City'])['City'].count()"
   ]
  },
  {
   "cell_type": "code",
   "execution_count": 475,
   "id": "bd73390c",
   "metadata": {},
   "outputs": [
    {
     "data": {
      "text/plain": [
       "Gender\n",
       "Female    105\n",
       "Male       66\n",
       "Other      91\n",
       "Name: Gender, dtype: int64"
      ]
     },
     "execution_count": 475,
     "metadata": {},
     "output_type": "execute_result"
    }
   ],
   "source": [
    "df[df['ProductCategory']==\"Sports\"].groupby(by=df['Gender'])['Gender'].count()"
   ]
  },
  {
   "cell_type": "code",
   "execution_count": 476,
   "id": "9e6e1763",
   "metadata": {},
   "outputs": [
    {
     "data": {
      "text/plain": [
       "Age Group\n",
       "Adult           72\n",
       "Senior         153\n",
       "young Adult     37\n",
       "Name: Age Group, dtype: int64"
      ]
     },
     "execution_count": 476,
     "metadata": {},
     "output_type": "execute_result"
    }
   ],
   "source": [
    "df[df['ProductCategory']==\"Sports\"].groupby(by=df['Age Group'])['Age Group'].count()"
   ]
  },
  {
   "cell_type": "code",
   "execution_count": 477,
   "id": "98959db5",
   "metadata": {},
   "outputs": [
    {
     "data": {
      "text/plain": [
       "np.int64(14614829)"
      ]
     },
     "execution_count": 477,
     "metadata": {},
     "output_type": "execute_result"
    }
   ],
   "source": [
    "Total_Amount=df['TotalAmount'].sum()\n",
    "Total_Amount"
   ]
  },
  {
   "cell_type": "markdown",
   "id": "05764797",
   "metadata": {},
   "source": [
    "DATA VISUALIZATION"
   ]
  },
  {
   "cell_type": "code",
   "execution_count": 478,
   "id": "0ea0849a",
   "metadata": {},
   "outputs": [
    {
     "data": {
      "text/plain": [
       "Text(0.5, 1.0, 'Age and Their And Frequency')"
      ]
     },
     "execution_count": 478,
     "metadata": {},
     "output_type": "execute_result"
    },
    {
     "data": {
      "image/png": "[encoded data removed]",
      "text/plain": [
       "<Figure size 640x480 with 1 Axes>"
      ]
     },
     "metadata": {},
     "output_type": "display_data"
    }
   ],
   "source": [
    "plt.hist(df['Age'],bins=30,color='green',edgecolor='black')\n",
    "plt.xlabel('Age')\n",
    "plt.ylabel(\"Count\")\n",
    "plt.title(\"Age and Their And Frequency\")"
   ]
  },
  {
   "cell_type": "code",
   "execution_count": 479,
   "id": "4929ff8b",
   "metadata": {},
   "outputs": [
    {
     "data": {
      "text/plain": [
       "Text(0.5, 1.0, 'Gender and their frequency')"
      ]
     },
     "execution_count": 479,
     "metadata": {},
     "output_type": "execute_result"
    },
    {
     "data": {
      "image/png": "[encoded data removed]",
      "text/plain": [
       "<Figure size 640x480 with 1 Axes>"
      ]
     },
     "metadata": {},
     "output_type": "display_data"
    }
   ],
   "source": [
    "gender_counts=df['Gender'].value_counts()\n",
    "plt.bar(gender_counts.index,gender_counts.values)\n",
    "plt.xlabel(\"Gender\")\n",
    "plt.ylabel(\"Their Frequency\")\n",
    "plt.title(\"Gender and their frequency\")"
   ]
  },
  {
   "cell_type": "code",
   "execution_count": 480,
   "id": "4cfe6e2a",
   "metadata": {},
   "outputs": [
    {
     "data": {
      "text/plain": [
       "Text(0.5, 1.0, 'Customers by city (Top 10 cities).')"
      ]
     },
     "execution_count": 480,
     "metadata": {},
     "output_type": "execute_result"
    },
    {
     "data": {
      "image/png": "[encoded data removed]",
      "text/plain": [
       "<Figure size 640x480 with 1 Axes>"
      ]
     },
     "metadata": {},
     "output_type": "display_data"
    }
   ],
   "source": [
    "customers=df['City'].value_counts()\n",
    "plt.bar(customers.index,customers.values,align='center')\n",
    "plt.xticks(rotation=90)\n",
    "plt.xlabel(\"City\")\n",
    "plt.ylabel(\"City transcation or Occurence\")\n",
    "plt.title(\"Customers by city (Top 10 cities).\")\n"
   ]
  },
  {
   "cell_type": "code",
   "execution_count": 481,
   "id": "c82404cc",
   "metadata": {},
   "outputs": [
    {
     "data": {
      "text/plain": [
       "<matplotlib.legend.Legend at 0x201514ee710>"
      ]
     },
     "execution_count": 481,
     "metadata": {},
     "output_type": "execute_result"
    },
    {
     "data": {
      "image/png": "[encoded data removed]",
      "text/plain": [
       "<Figure size 640x480 with 1 Axes>"
      ]
     },
     "metadata": {},
     "output_type": "display_data"
    }
   ],
   "source": [
    "payment=df['PaymentMode'].value_counts()\n",
    "label=payment.index\n",
    "plt.pie(payment.values,labels=label,autopct=\"%d%%\")\n",
    "plt.legend()\n"
   ]
  },
  {
   "cell_type": "code",
   "execution_count": 482,
   "id": "8cdc53b6",
   "metadata": {},
   "outputs": [
    {
     "name": "stdout",
     "output_type": "stream",
     "text": [
      "Month\n",
      "April        1292354\n",
      "August       1338247\n",
      "December     1012178\n",
      "February      995332\n",
      "January      1176647\n",
      "July         1267466\n",
      "June         1400202\n",
      "March        1253582\n",
      "May          1294674\n",
      "November     1227406\n",
      "October      1156591\n",
      "September    1200150\n",
      "Name: TotalAmount, dtype: int64\n"
     ]
    },
    {
     "data": {
      "text/plain": [
       "([0, 1, 2, 3, 4, 5, 6, 7, 8, 9, 10, 11],\n",
       " [Text(0, 0, 'April'),\n",
       "  Text(1, 0, 'August'),\n",
       "  Text(2, 0, 'December'),\n",
       "  Text(3, 0, 'February'),\n",
       "  Text(4, 0, 'January'),\n",
       "  Text(5, 0, 'July'),\n",
       "  Text(6, 0, 'June'),\n",
       "  Text(7, 0, 'March'),\n",
       "  Text(8, 0, 'May'),\n",
       "  Text(9, 0, 'November'),\n",
       "  Text(10, 0, 'October'),\n",
       "  Text(11, 0, 'September')])"
      ]
     },
     "execution_count": 482,
     "metadata": {},
     "output_type": "execute_result"
    },
    {
     "data": {
      "image/png": "[encoded data removed]",
      "text/plain": [
       "<Figure size 640x480 with 1 Axes>"
      ]
     },
     "metadata": {},
     "output_type": "display_data"
    }
   ],
   "source": [
    "month=df.groupby(df['Month'])['TotalAmount'].sum()\n",
    "print(month)\n",
    "plt.plot(month.index,month.values, marker='o')\n",
    "plt.title(\"Month Sales Trend\")\n",
    "plt.xticks(rotation=90)"
   ]
  },
  {
   "cell_type": "code",
   "execution_count": 483,
   "id": "cf8ec9be",
   "metadata": {},
   "outputs": [
    {
     "data": {
      "text/plain": [
       "Text(0.5, 1.0, 'Total sales by product category')"
      ]
     },
     "execution_count": 483,
     "metadata": {},
     "output_type": "execute_result"
    },
    {
     "data": {
      "image/png": "[encoded data removed]",
      "text/plain": [
       "<Figure size 640x480 with 1 Axes>"
      ]
     },
     "metadata": {},
     "output_type": "display_data"
    }
   ],
   "source": [
    "product=df.groupby(df['ProductCategory'])['TotalAmount'].sum()\n",
    "plt.bar(product.index,product.values)\n",
    "plt.xticks(rotation=85)\n",
    "plt.xlabel(\"Product Category\")\n",
    "plt.ylabel(\"Frequencies\")\n",
    "plt.title(\"Total sales by product category\")"
   ]
  },
  {
   "cell_type": "code",
   "execution_count": 484,
   "id": "4f352077",
   "metadata": {},
   "outputs": [
    {
     "data": {
      "text/plain": [
       "Text(0.5, 1.0, 'City-wise revenue contribution ')"
      ]
     },
     "execution_count": 484,
     "metadata": {},
     "output_type": "execute_result"
    },
    {
     "data": {
      "image/png": "[encoded data removed]",
      "text/plain": [
       "<Figure size 640x480 with 1 Axes>"
      ]
     },
     "metadata": {},
     "output_type": "display_data"
    }
   ],
   "source": [
    "citywise=df.groupby(df['City'])['TotalAmount'].sum()\n",
    "plt.bar(citywise.index,citywise.values,color=\"red\")\n",
    "plt.xticks(rotation=85)\n",
    "plt.xlabel(\"City\")\n",
    "plt.ylabel(\"Total revenue\")\n",
    "plt.title(\"City-wise revenue contribution \")"
   ]
  },
  {
   "cell_type": "code",
   "execution_count": 485,
   "id": "a601f663",
   "metadata": {},
   "outputs": [
    {
     "name": "stdout",
     "output_type": "stream",
     "text": [
      "Age Group\n",
      "Adult          7341.934066\n",
      "Senior         7205.095076\n",
      "young Adult    7675.836957\n",
      "dtype: float64\n"
     ]
    }
   ],
   "source": [
    "agetotal=df.groupby(by=df['Age Group'])['TotalAmount'].sum()\n",
    "age=df.groupby(by=df['Age Group'])['Age Group'].value_counts()\n",
    "data=agetotal/age\n",
    "print(data)\n"
   ]
  },
  {
   "cell_type": "code",
   "execution_count": 486,
   "id": "b37d20dc",
   "metadata": {},
   "outputs": [
    {
     "name": "stdout",
     "output_type": "stream",
     "text": [
      "PaymentMode      Card  Cash  UPI  Wallet\n",
      "ProductCategory                         \n",
      "Beauty             75    65   73      90\n",
      "Books              77    71   81      72\n",
      "Electronics        72    70   69      70\n",
      "Fashion            71    53   55      80\n",
      "Furniture          83    81   77      72\n",
      "Groceries          77    67   66      71\n",
      "Sports             65    70   63      64\n"
     ]
    },
    {
     "data": {
      "text/plain": [
       "<Axes: xlabel='PaymentMode', ylabel='ProductCategory'>"
      ]
     },
     "execution_count": 486,
     "metadata": {},
     "output_type": "execute_result"
    },
    {
     "data": {
      "image/png": "[encoded data removed]",
      "text/plain": [
       "<Figure size 640x480 with 2 Axes>"
      ]
     },
     "metadata": {},
     "output_type": "display_data"
    }
   ],
   "source": [
    "pivot_table = pd.crosstab(df['ProductCategory'], df['PaymentMode'])\n",
    "print(pivot_table)\n",
    "sns.heatmap(pivot_table)"
   ]
  },
  {
   "cell_type": "code",
   "execution_count": null,
   "id": "9141a379",
   "metadata": {},
   "outputs": [],
   "source": []
  }
 ],
 "metadata": {
  "kernelspec": {
   "display_name": "venv",
   "language": "python",
   "name": "python3"
  },
  "language_info": {
   "codemirror_mode": {
    "name": "ipython",
    "version": 3
   },
   "file_extension": ".py",
   "mimetype": "text/x-python",
   "name": "python",
   "nbconvert_exporter": "python",
   "pygments_lexer": "ipython3",
   "version": "3.13.5"
  }
 },
 "nbformat": 4,
 "nbformat_minor": 5
}
